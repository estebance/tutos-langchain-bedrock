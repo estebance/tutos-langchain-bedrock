{
 "cells": [
  {
   "cell_type": "markdown",
   "id": "ef15c9e6-8072-4610-a6fe-fd226850c112",
   "metadata": {},
   "source": [
    "# Chatbot con un LLM utilizando Vector Stores - Interfaces de conversación \n",
    "\n",
    "En este cuaderno, vamos a adicionar funcionalidades que permitan enriquecer el contexto de los chatbot con Vector Stores"
   ]
  },
  {
   "cell_type": "markdown",
   "id": "7a310c24-7fd7-4e2e-9a78-51def4ac04c9",
   "metadata": {},
   "source": [
    "## Introducción\n",
    "\n",
    "Una de las funcionalidades mas importantes cuando se construye un Chatbot es la capacidad de mantener el contexto de una conversación. Es importante que el LLM pueda mantener el hilo de la conversación.  \n",
    "\n",
    "## Tokens \n",
    "\n",
    "Son unidades de texto o codigo fuente que los LLMs utilizan para procesar y generar respuestas. Los Token pueden ser de diferentes tipos como: \n",
    "\n",
    "1. Palabras\n",
    "3. Caracteres\n",
    "4. Otros segmentos de texto o codigo\n",
    "\n",
    "Los token dependen entonces del metodo de tokenización utilizado. Se asigna un valor numerico o identificador y son organizados en secuencias o VECTORES que alimentan a los modelos y que de igual forma son su salida. \n",
    "\n",
    "\n",
    "## Embebidos (Embeddings) \n",
    "\n",
    "Los Embebidos son representaciones vectoriales de las palabras o tokens que capturan su significado semantico en un espacio dimensional ...... XD \n",
    "Mejor ...\n",
    "Los embebidos son la representación o codificación de los Tokens; algunos ejemplos pueden ser sentencias, parrafos o documentos completos puestos en un espacio vectorial de muchas dimensiones donde cada una de estas dimensiones representa una caracteristica o atributo aprendido del lenguaje. \n",
    "\n",
    "Son entonces, la forma en la cual los LLMs comprenden el significado y las relaciones que existen en el lenguaje. \n",
    "\n",
    "## FAISS \n",
    "\n",
    "Es una libreria que nos permite realizar busquedas por similitud o agrupamiento utilizando vectores de muchas dimensiones. En otras palabras FAISS va a permitir realizar busquedas sobre los Embebidos generados para este tutorial. "
   ]
  },
  {
   "cell_type": "code",
   "execution_count": 10,
   "id": "21bcdf90-5573-4c8d-afce-cce1f0ed2f81",
   "metadata": {},
   "outputs": [],
   "source": [
    "from langchain.document_loaders import PyPDFLoader\n",
    "from langchain.text_splitter import RecursiveCharacterTextSplitter\n",
    "from langchain.indexes.vectorstore import VectorStoreIndexWrapper\n",
    "from langchain.embeddings import BedrockEmbeddings\n",
    "from langchain.llms.bedrock import Bedrock\n",
    "from langchain.vectorstores import FAISS"
   ]
  },
  {
   "cell_type": "markdown",
   "id": "a54a8a47-81fb-4767-a114-801fb012019d",
   "metadata": {},
   "source": [
    "## Dataset\n",
    "En el directorio data vas a encontrar un documento llamado constitucion-politica-col.pdf, en el vamos a encontrar tan solo 2 paginas con los 10 primeros artículos. \n",
    "\n",
    "## Nota \n",
    "Langchain ofrece diferentes herramientas para cargar datos o documentos, puedes dar un vistazo en el siguiente enlace \n",
    "[LangChainDocumentLoaders](https://python.langchain.com/docs/modules/data_connection/document_loaders)"
   ]
  },
  {
   "cell_type": "code",
   "execution_count": 2,
   "id": "8f5b12be-a70a-48f9-b2b8-9aa47a5685e8",
   "metadata": {},
   "outputs": [
    {
     "name": "stdout",
     "output_type": "stream",
     "text": [
      "Documentos cargados=2\n"
     ]
    }
   ],
   "source": [
    "loader = PyPDFLoader(\"data/constitucion-politica-col.pdf\")\n",
    "documents_col = loader.load() #\n",
    "print(f\"Documentos cargados={len(documents_col)}\")"
   ]
  },
  {
   "cell_type": "markdown",
   "id": "f1de931b-456e-4e91-84e3-8da8e750c626",
   "metadata": {},
   "source": [
    "Una vez hemos cargado los archivos debemos realizar una división del contenido para generar nuestros embeddings.\n",
    "No podemos cargar un solo cuerpo de texto para generar los embeddings, debemos separar el texto en pequeños fragmentos que nuestro LLM pueda soportar "
   ]
  },
  {
   "cell_type": "code",
   "execution_count": 28,
   "id": "4e9fdbe7-e7ff-45f9-8c7b-4dddf1d146d6",
   "metadata": {},
   "outputs": [],
   "source": [
    "docs = RecursiveCharacterTextSplitter(\n",
    "    length_function = len,\n",
    "    is_separator_regex = False,\n",
    "    chunk_size=100, \n",
    "    chunk_overlap=20\n",
    ").split_documents(documents_col)"
   ]
  },
  {
   "cell_type": "markdown",
   "id": "467ab4c7-6fff-470c-a718-4442c8da57ce",
   "metadata": {},
   "source": [
    "Vemos que Langchain nos ha ayudado a dividir nuestro gran cuerpo de texto en frases mas cortas que podemos enviar a nuestro generador de Embeddings"
   ]
  },
  {
   "cell_type": "code",
   "execution_count": 29,
   "id": "61788439-33bd-4504-8080-0a057b0ac76a",
   "metadata": {},
   "outputs": [
    {
     "name": "stdout",
     "output_type": "stream",
     "text": [
      "Documentos generados=59\n"
     ]
    }
   ],
   "source": [
    "print(f\"Documentos generados={len(docs)}\")"
   ]
  },
  {
   "cell_type": "code",
   "execution_count": 35,
   "id": "055c4c91-926b-4ef2-ba5c-464952db0c6a",
   "metadata": {},
   "outputs": [
    {
     "data": {
      "text/plain": [
       "[Document(page_content='13\\nDe los Principios Fundamentales  (Artículos 1-4)CONSTITUCIÓN POLÍTICA COLOMBIA\\nPREÁMBULO', metadata={'source': 'data/constitucion-politica-col.pdf', 'page': 0}),\n",
       " Document(page_content='PREÁMBULO\\nEL PUEBLO DE COLOMBIA,\\nen ejercicio de su poder soberano, representa -', metadata={'source': 'data/constitucion-politica-col.pdf', 'page': 0}),\n",
       " Document(page_content='do por sus delegatarios a la Asamblea Nacional \\nConstituyente, invocando la protección de Dios, y', metadata={'source': 'data/constitucion-politica-col.pdf', 'page': 0}),\n",
       " Document(page_content='con el fin de fortalecer la unidad de la nación y', metadata={'source': 'data/constitucion-politica-col.pdf', 'page': 0}),\n",
       " Document(page_content='asegurar a sus integrantes la vida, la convivencia,', metadata={'source': 'data/constitucion-politica-col.pdf', 'page': 0}),\n",
       " Document(page_content='el trabajo, la justicia, la igualdad, el conocimiento, la libertad y la paz, dentro de un marco', metadata={'source': 'data/constitucion-politica-col.pdf', 'page': 0}),\n",
       " Document(page_content='dentro de un marco jurídico,', metadata={'source': 'data/constitucion-politica-col.pdf', 'page': 0}),\n",
       " Document(page_content='democrático y participativo que garantice un or -', metadata={'source': 'data/constitucion-politica-col.pdf', 'page': 0}),\n",
       " Document(page_content='den político, económico y social justo, y compro -', metadata={'source': 'data/constitucion-politica-col.pdf', 'page': 0}),\n",
       " Document(page_content='metido a impulsar la integración de la comunidad \\nlatinoamericana, decreta, sanciona y promulga la', metadata={'source': 'data/constitucion-politica-col.pdf', 'page': 0}),\n",
       " Document(page_content='siguiente:\\nConstitución Política de Colombia\\nTÍTULO I\\nDE LOS PRINCIPIOS FUNDAMENTALES', metadata={'source': 'data/constitucion-politica-col.pdf', 'page': 0}),\n",
       " Document(page_content='Artículo 1 °. Colombia es un Estado social \\nde derecho, organizado en forma de República', metadata={'source': 'data/constitucion-politica-col.pdf', 'page': 0}),\n",
       " Document(page_content='unitaria, descentralizada, con autonomía de sus', metadata={'source': 'data/constitucion-politica-col.pdf', 'page': 0}),\n",
       " Document(page_content='entidades territoriales, democrática, participativa', metadata={'source': 'data/constitucion-politica-col.pdf', 'page': 0}),\n",
       " Document(page_content='y pluralista, fundada en el respeto de la dignidad', metadata={'source': 'data/constitucion-politica-col.pdf', 'page': 0}),\n",
       " Document(page_content='humana, en el trabajo y la solidaridad de las per -', metadata={'source': 'data/constitucion-politica-col.pdf', 'page': 0}),\n",
       " Document(page_content='sonas que la integran y en la prevalencia del inte -\\nrés general.', metadata={'source': 'data/constitucion-politica-col.pdf', 'page': 0}),\n",
       " Document(page_content='rés general.\\nArtículo 2 °. Son fines esenciales del Estado:', metadata={'source': 'data/constitucion-politica-col.pdf', 'page': 0}),\n",
       " Document(page_content='servir a la comunidad, promover la prosperidad ge -', metadata={'source': 'data/constitucion-politica-col.pdf', 'page': 0}),\n",
       " Document(page_content='neral y garantizar la efectividad de los principios,', metadata={'source': 'data/constitucion-politica-col.pdf', 'page': 0})]"
      ]
     },
     "execution_count": 35,
     "metadata": {},
     "output_type": "execute_result"
    }
   ],
   "source": [
    "docs[:20]"
   ]
  },
  {
   "cell_type": "markdown",
   "id": "4cfd355c-7f57-4aa7-85df-758c46330f4c",
   "metadata": {},
   "source": [
    "## Instrucciones \n",
    "\n",
    "1. Alguien debe generar nuestros embeddigs, en nuestro ejemplo vamos a utilizar AWS Bedrock para generarlos y para lograrlo debemos conectarnos con el API de AWS\n",
    "2. Vamos a almacenar en memoria los datos generados"
   ]
  },
  {
   "cell_type": "code",
   "execution_count": 36,
   "id": "11d9a80c-146b-4dea-a8fb-3d37470a8202",
   "metadata": {},
   "outputs": [
    {
     "name": "stdout",
     "output_type": "stream",
     "text": [
      "vectorstore faiss con aws bedrock: elementos en el indice=59\n"
     ]
    }
   ],
   "source": [
    "vectorstore_faiss_aws = None\n",
    "try:\n",
    "    bedrock_embeddings = BedrockEmbeddings(\n",
    "        credentials_profile_name=\"default\", region_name=\"us-east-1\"\n",
    "    )\n",
    "    vectorstore_faiss_aws = FAISS.from_documents(\n",
    "        documents=docs,\n",
    "        embedding = bedrock_embeddings\n",
    "    )\n",
    "    print(f\"vectorstore faiss con aws bedrock: elementos en el indice={vectorstore_faiss_aws.index.ntotal}\")\n",
    "\n",
    "except ValueError as error:\n",
    "    print(f\"Error conectando con el vector store: {error}\")\n",
    "    raise error"
   ]
  },
  {
   "cell_type": "markdown",
   "id": "8e3b0f94-e5fa-44bc-8ccd-fbc5090f13c7",
   "metadata": {},
   "source": [
    "Hagamos una consulta sobre nuestro Vector Store con una busqueda por similitud, simplemente vamos a pasar un string para realizar la busqueda. "
   ]
  },
  {
   "cell_type": "code",
   "execution_count": 37,
   "id": "324f1b60-7558-461d-84ab-727971410048",
   "metadata": {},
   "outputs": [
    {
     "name": "stdout",
     "output_type": "stream",
     "text": [
      " Documentos obtenidos: 4\n",
      " Documentos obtenidos: [Document(page_content='Artículo 1 °. Colombia es un Estado social \\nde derecho, organizado en forma de República', metadata={'source': 'data/constitucion-politica-col.pdf', 'page': 0}), Document(page_content='Colombia, en su vida, honra, bienes, creencias, y \\ndemás derechos y libertades, y para asegurar el', metadata={'source': 'data/constitucion-politica-col.pdf', 'page': 0}), Document(page_content='siguiente:\\nConstitución Política de Colombia\\nTÍTULO I\\nDE LOS PRINCIPIOS FUNDAMENTALES', metadata={'source': 'data/constitucion-politica-col.pdf', 'page': 0}), Document(page_content='cumplimiento de los deberes sociales del Estado y \\nde los particulares.', metadata={'source': 'data/constitucion-politica-col.pdf', 'page': 0})]\n"
     ]
    }
   ],
   "source": [
    "query = \"Colombia es un Estado social de derecho\"\n",
    "retrieved_docs = vectorstore_faiss_aws.similarity_search(query)\n",
    "print(f\" Documentos obtenidos: {len(retrieved_docs)}\")\n",
    "print(f\" Documentos obtenidos: {retrieved_docs}\")"
   ]
  },
  {
   "cell_type": "markdown",
   "id": "38ffea68-d70a-4068-a85f-30afa37e494e",
   "metadata": {},
   "source": [
    "## Busqueda Semantica \n",
    "Para realizar este tipo de busqueda vamos a obtener un embedding de nuestra consulta y luego vamos a realizar una busqueda en el vector store basada en embeddings..."
   ]
  },
  {
   "cell_type": "code",
   "execution_count": 38,
   "id": "6f71228c-4ed2-4528-9378-0c745376a193",
   "metadata": {},
   "outputs": [
    {
     "name": "stdout",
     "output_type": "stream",
     "text": [
      "[1.7109375, -0.18652344, 0.48046875, 0.43554688, 0.33007812, 0.9140625, -0.22363281, -0.0009994507, 1.3359375, -0.20703125]\n",
      "Artículo 1 °. Colombia es un Estado social \n",
      "de derecho, organizado en forma de República\n",
      "----\n",
      "Colombia, en su vida, honra, bienes, creencias, y \n",
      "demás derechos y libertades, y para asegurar el\n",
      "----\n"
     ]
    }
   ],
   "source": [
    "v = bedrock_embeddings.embed_query(\"Colombia es un Estado social de derecho\")\n",
    "print(v[0:10])\n",
    "results = vectorstore_faiss_aws.similarity_search_by_vector(v, k=2)\n",
    "for r in results:\n",
    "    print(r.page_content)\n",
    "    print('----')"
   ]
  },
  {
   "cell_type": "markdown",
   "id": "27b5169c-b743-4383-ab20-7e86c381d612",
   "metadata": {},
   "source": [
    "### Nota \n",
    "Existe un wrapper de LangChain que nos va a permitir realizar una busqueda semantica de forma mas sencilla"
   ]
  },
  {
   "cell_type": "code",
   "execution_count": 39,
   "id": "02bbf042-aa69-4912-bbc4-479ded351ad8",
   "metadata": {},
   "outputs": [],
   "source": [
    "llm_claude = Bedrock(\n",
    "  model_id=\"anthropic.claude-v2\",\n",
    "  model_kwargs={'max_tokens_to_sample': 200},\n",
    "  credentials_profile_name=\"default\", \n",
    "  region_name=\"us-east-1\"\n",
    ")"
   ]
  },
  {
   "cell_type": "code",
   "execution_count": 41,
   "id": "9bb31c6c-90f0-4d37-b0ad-7e9370613204",
   "metadata": {},
   "outputs": [
    {
     "name": "stdout",
     "output_type": "stream",
     "text": [
      " Basado en el contexto proporcionado, se puede inferir que en Colombia hay respeto por la dignidad humana. Específicamente, el Artículo 1° de la Constitución de Colombia establece que es una república democrática, participativa y pluralista, fundada en el respeto de la dignidad humana. Además, el Artículo 95 indica que es deber de todos en Colombia acatar la Constitución y las leyes, las cuales se presumen establecen ese respeto por la dignidad humana. Por lo tanto, según esta información, en Colombia sí hay respeto por la dignidad humana.\n"
     ]
    }
   ],
   "source": [
    "vector_store_faiss_wrapper = VectorStoreIndexWrapper(vectorstore=vectorstore_faiss_aws)\n",
    "print(vector_store_faiss_wrapper.query(\"En Colombia hay respeto de la dignidad humana?\", llm=llm_claude))"
   ]
  },
  {
   "cell_type": "code",
   "execution_count": null,
   "id": "93b70165-58c0-4189-9689-d86f64b37277",
   "metadata": {},
   "outputs": [],
   "source": []
  }
 ],
 "metadata": {
  "kernelspec": {
   "display_name": "virtualenv",
   "language": "python",
   "name": "virtualenv"
  },
  "language_info": {
   "codemirror_mode": {
    "name": "ipython",
    "version": 3
   },
   "file_extension": ".py",
   "mimetype": "text/x-python",
   "name": "python",
   "nbconvert_exporter": "python",
   "pygments_lexer": "ipython3",
   "version": "3.11.2"
  }
 },
 "nbformat": 4,
 "nbformat_minor": 5
}
