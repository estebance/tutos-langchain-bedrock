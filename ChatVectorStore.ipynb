{
 "cells": [
  {
   "cell_type": "markdown",
   "id": "ef15c9e6-8072-4610-a6fe-fd226850c112",
   "metadata": {},
   "source": [
    "# Chatbot con un LLM utilizando Vector Stores - Interfaces de conversación \n",
    "\n",
    "En este cuaderno, vamos a adicionar funcionalidades que permitan enriquecer el contexto de los chatbot con Vector Stores"
   ]
  },
  {
   "cell_type": "markdown",
   "id": "7a310c24-7fd7-4e2e-9a78-51def4ac04c9",
   "metadata": {},
   "source": [
    "## Introducción\n",
    "\n",
    "Una de las funcionalidades mas importantes cuando se construye un Chatbot es la capacidad de mantener el contexto de una conversación. Es importante que el LLM pueda mantener el hilo de la conversación.  \n",
    "\n",
    "## Tokens \n",
    "\n",
    "Son unidades de texto o codigo fuente que los LLMs utilizan para procesar y generar respuestas. Los Token pueden ser de diferentes tipos como: \n",
    "\n",
    "1. Palabras\n",
    "3. Caracteres\n",
    "4. Otros segmentos de texto o codigo\n",
    "\n",
    "Los token dependen entonces del metodo de tokenización utilizado. Se asigna un valor numerico o identificador y son organizados en secuencias o VECTORES que alimentan a los modelos y que de igual forma son su salida. \n",
    "\n",
    "\n",
    "## Embebidos (Embeddings) \n",
    "\n",
    "Los Embebidos son representaciones vectoriales de las palabras o tokens que capturan su significado semantico en un espacio dimensional ...... XD \n",
    "Mejor ...\n",
    "Los embebidos son la representación o codificación de los Tokens; algunos ejemplos pueden ser sentencias, parrafos o documentos completos puestos en un espacio vectorial de muchas dimensiones donde cada una de estas dimensiones representa una caracteristica o atributo aprendido del lenguaje. \n",
    "\n",
    "Son entonces, la forma en la cual los LLMs comprenden el significado y las relaciones que existen en el lenguaje. \n",
    "\n",
    "## FAISS "
   ]
  }
 ],
 "metadata": {
  "kernelspec": {
   "display_name": "Python 3 (ipykernel)",
   "language": "python",
   "name": "python3"
  },
  "language_info": {
   "codemirror_mode": {
    "name": "ipython",
    "version": 3
   },
   "file_extension": ".py",
   "mimetype": "text/x-python",
   "name": "python",
   "nbconvert_exporter": "python",
   "pygments_lexer": "ipython3",
   "version": "3.11.2"
  }
 },
 "nbformat": 4,
 "nbformat_minor": 5
}
