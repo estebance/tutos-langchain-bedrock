{
 "cells": [
  {
   "cell_type": "markdown",
   "id": "97256ee6-ddad-4913-a6cf-c10f2d2a0e86",
   "metadata": {},
   "source": [
    "# NamuyWamChat\n",
    "\n",
    "En este cuaderno vamos a construir un chat en Namuy Wam (una lengua indigena en Colombia) vamos a integrar herramientas que nos permitan enriquecer el contexto de la conversación como: \n",
    "\n",
    "1. Vector Stores\n",
    "2. Conversation Buffer Memory"
   ]
  },
  {
   "cell_type": "code",
   "execution_count": 1,
   "id": "bac4d5ea-237b-4adc-bb5b-dfff369c9f68",
   "metadata": {},
   "outputs": [],
   "source": [
    "from langchain.llms.bedrock import Bedrock"
   ]
  },
  {
   "cell_type": "code",
   "execution_count": 2,
   "id": "36d9e5b3-b7c9-426c-8b16-e401f75072b7",
   "metadata": {},
   "outputs": [],
   "source": [
    "# invoke the LLM\n",
    "llm_claude = Bedrock(\n",
    "  model_id=\"anthropic.claude-v2\",\n",
    "  model_kwargs={'max_tokens_to_sample': 500},\n",
    "  credentials_profile_name=\"default\", \n",
    "  region_name=\"us-east-1\"\n",
    ")"
   ]
  },
  {
   "cell_type": "code",
   "execution_count": 22,
   "id": "0a15ca91-9c7d-4fa0-8084-7307bcdcb44f",
   "metadata": {},
   "outputs": [],
   "source": [
    "from langchain.embeddings import BedrockEmbeddings\n",
    "from langchain.vectorstores import FAISS\n",
    "from langchain.text_splitter import RecursiveCharacterTextSplitter\n",
    "from langchain.document_loaders import JSONLoader\n",
    "from langchain.prompts import PromptTemplate\n",
    "from langchain.chains import ConversationChain\n",
    "from langchain.memory import ConversationBufferMemory\n",
    "import json"
   ]
  },
  {
   "cell_type": "code",
   "execution_count": 23,
   "id": "7b2e434d-5cb4-4bf2-bf71-80457f53a9c8",
   "metadata": {},
   "outputs": [
    {
     "name": "stdout",
     "output_type": "stream",
     "text": [
      "[{'es': 'Levantar', 'gum': 'Kutrap'}, {'es': 'Levantarse', 'gum': 'Kia kutrap'}, {'es': 'Bañar', 'gum': 'Pirap'}, {'es': 'Desayunar', 'gum': 'Lѳtsѳ pi muchip'}, {'es': 'Barrer', 'gum': 'Palunchip'}, {'es': 'Trabajar', 'gum': 'Lutѳyu kuallip'}, {'es': 'Dormir', 'gum': 'Kip'}, {'es': 'Descansar', 'gum': 'Israp'}, {'es': 'Caminar', 'gum': 'May wan ip'}, {'es': 'Cepillarse', 'gum': 'Trukul pillmap'}, {'es': 'Papá', 'gum': 'Mѳskay'}, {'es': 'Mamá', 'gum': 'Usri'}, {'es': 'Hermano', 'gum': 'Nunek'}, {'es': 'Hermana', 'gum': 'Nuchak'}, {'es': 'Abuelo', 'gum': 'Shura'}, {'es': 'Abuela', 'gum': 'Shur'}, {'es': 'Tía', 'gum': 'Kuchiusri'}, {'es': 'Tío', 'gum': 'Kuchi Mѳskay'}, {'es': 'Esposo', 'gum': 'Kek'}, {'es': 'Esposa', 'gum': 'Srai'}, {'es': 'Niño', 'gum': 'unѳ'}, {'es': 'La abuela se baña', 'gum': 'shurape piran'}, {'es': 'Mama Manuela La madre de los misak', 'gum': 'Mama Manuela tru misakmerai usri'}, {'es': 'El niño desayuna', 'gum': 'unѳ lѳtsѳ mamik man'}, {'es': 'La tia trabaja', 'gum': 'Kuchiusri trausrѳ kullipik kѳn'}, {'es': 'El Papá se cepilla', 'gum': 'mѳskeinpe trukulmeran pillman'}, {'es': 'Con quién vives en casa', 'gum': 'Mu pa wapikuku ñui yaupe'}, {'es': 'Tienes hermanos o hermanas', 'gum': 'Nuchalѳ o nunelѳ tekaikѳtitru'}, {'es': 'Esta es mi madre', 'gum': 'Ikpe nai usrin kѳn'}, {'es': 'Este es mi padre', 'gum': 'Ikpe nai mѳskai kѳn'}, {'es': 'Mi abuelo es cariñoso', 'gum': 'Nai shurpe untakik kѳn'}, {'es': 'Mi abuela cocina delicioso', 'gum': 'Nai shurape maik nenѳpikѳn'}, {'es': 'Mi mamá cocina rico', 'gum': 'Nai usrimaik mik nenѳpikѳn'}, {'es': 'Mi papá juega futbol', 'gum': 'Nai mѳskai kaluz tulu yatap eshekѳpikѳn'}, {'es': 'Mi papá juega conmigo', 'gum': 'Nai mѳskaimpe napa eshekѳpikѳn'}, {'es': 'Comprar casa nueva es más rentable que arrendar', 'gum': 'penamik ya srѳiwan mas an palapweitѳkѳ pepatѳ wareiwan kanap'}, {'es': 'Colombia ingresa a coalición global para reducir uso del carbón', 'gum': 'Colombia kepian Mayelѳin katѳ mermantrap caterѳiwan Carbon teiwan'}, {'es': 'Así será la despedida de Fernando Botero en Colombia: su cuerpo ya está en el país', 'gum': 'ѳye kѳntrun unkua tamik Fernando Boteron Colombia srѳ: nui asrpe yantѳ nuy pirѳsrѳ tsun'}, {'es': 'ya se inicio la construcción del puente', 'gum': 'yantѳ chap pѳlpasran piuntsiwan marѳp'}, {'es': 'Las regiones de nuestro hermoso país', 'gum': 'Wareinchamera namuy tapchi nu pirѳyu'}, {'es': 'Fernando Botero también conquistó China con su talento y genialidad', 'gum': 'Fernando Botero kucha tap ieikѳn chinasrѳ nui chi marilѳ tѳka incha nuy tap kuitѳka'}, {'es': 'loque hicieron esta muy mal', 'gum': 'trѳ maripe purѳ calѳ kѳn'}, {'es': 'Esta es la primera evidencia de un agujero negro girando detectada por astrónomos', 'gum': 'ik kѳn kan asamik kan trap unѳ yalik  llirappasrapik asik srѳmpalasrѳyu ashipelѳ'}, {'es': 'Joven de la minga indígena resultó gravemente herido tras caer de una chiva', 'gum': 'mastinѳ alikyu uñipik ketrintiken pinepѳña natsaulliyu kutri pinѳpeña'}, {'es': 'La periodista francesa Guylaine Roujol hizo una investigación sobre los falsos positivos en Colombia', 'gum': 'paya ashipik Franciasrѳn kallei ishuk Guylaine Roujol maran kan payamarik tru isatѳ chi marar kѳmupentѳ kuetsilan misameran i namuy nu pirѳyu Colombia'}, {'es': 'El último paso antes de cruzar el Darién: así es el campamento de Acandí', 'gum': 'srape punik purammuatѳ Darien: ѳye kѳn tru pumik isrѳntrap Acandí srѳ'}, {'es': '¿Cuáles son las mejores razas de perros guía?', 'gum': '¿mѳilѳ kѳ mas tap  weramera pera mѳnamelѳ?'}, {'es': 'Familia de colombiano que murió en accidente en Brasil pide ayuda para repatriarlo', 'gum': 'yawelѳ nammisak wei tru kueik can chi puraitrapkui mѳrmik  Brasil srѳ'}, {'es': 'Próximo alcalde de Bogotá no contempla en su agenda a los venezolanos', 'gum': 'srѳ karupik attrapik Bogotá srik  shchap misrmѳn nuy pѳrinuk venezolanos meran'}, {'es': 'La Nueva Licorera de Boyacá avanza a buena marcha', 'gum': 'srѳi pachipi yaninu Boyacá srѳ tap ip pasran'}, {'es': 'Teresita Gómez dedicó su recital al maestro Fernando Botero', 'gum': 'Teresita Gómez truiwan tamariwan miran Fernando Botero'}, {'es': 'Papas rostizadas al horno con orégano: aquí está la receta saludable y deliciosa', 'gum': 'ye mera karilѳ nuk nak kuyu  oregano pa: yu may maramik pitetѳ waramik purѳ maikѳn'}, {'es': 'El nuevo producto financiero que Nubank traerá a Colombia', 'gum': 'srѳi chikepen yanamelѳ Nubak sruattrun Namuy nupirѳyu Colombia'}, {'es': 'Bancolombia obtuvo certificación por sus esfuerzos en equidad de género y diversidad', 'gum': 'Bancolombia  utan Certificación  nem marinkuenta lata lata mayelѳi'}, {'es': 'Copilot, apuesta de inteligencia artificial de Microsoft que cambiará uso de Windows', 'gum': 'Copilot, marѳp inteligencia artificil tei Microsoftwei truipe pemeik katѳramik windows wan'}, {'es': 'Comprar casa nueva es más rentable que arrendar', 'gum': 'penamik ya srѳiwan mas an palapweitѳkѳ pepatѳ wareiwan kanap'}, {'es': 'Colombia ingresa a coalición global para reducir uso del carbón', 'gum': 'Colombia kepian Mayelѳin katѳ mermantrap caterѳiwan Carbon teiwan'}, {'es': 'Así será la despedida de Fernando Botero en Colombia: su cuerpo ya está en el país', 'gum': 'ѳye kѳntrun unkua tamik Fernando Boteron Colombia srѳ: nui asrpe yantѳ nuy pirѳsrѳ tsun'}, {'es': 'Mercurio será visible desde la Tierra durante este fin de semana y así podrá verlo', 'gum': 'Mercuriope asamtik kѳntrun  yu pirѳyu kutri i patsamptrune inya eye asamtik kѳntrun'}, {'es': 'ya se inicio la construcción del puente', 'gum': 'yantѳ chap pѳlpasran piuntsiwan marѳp'}, {'es': 'Los prestamistas de la región de Antioquia', 'gum': 'An pepepelѳ Antioquiasrѳ'}, {'es': 'Las regiones de nuestro hermoso país', 'gum': 'Wareinchamera namuy tapchi nu pirѳyu'}, {'es': 'Bonito', 'gum': 'Tapshik'}, {'es': 'Amor', 'gum': 'Untak Kѳtan'}, {'es': '¿Cómo Te Llamas?', 'gum': 'Chi Munchikuku'}, {'es': '¿Como Le Fue En El Dia?', 'gum': 'maik ita kualѳm yu'}, {'es': 'Buenos Días', 'gum': 'Pishintѳkѳ'}, {'es': 'Buenas Tardes', 'gum': 'Yantѳ Mawan'}, {'es': 'Buenos Días', 'gum': 'Pachiktѳkѳn'}, {'es': '¿Hola Cómo Estas?', 'gum': 'Ka Mawaku'}, {'es': '¿Cómo Estas?', 'gum': 'Ka Uñku'}, {'es': '¿Como Están?', 'gum': 'Ka Amѳñike'}, {'es': 'Hasta Pronto', 'gum': 'Unkua'}, {'es': '¿Cómo Amaneció?', 'gum': 'Ka Kualmaku'}, {'es': 'Buenos Días', 'gum': 'Matuku'}, {'es': 'Buenos Días', 'gum': 'Matѳke'}, {'es': 'Présteme Algo', 'gum': 'Peptra'}, {'es': 'Tráigame Algo', 'gum': 'Sruatra'}, {'es': 'Entregue Algo', 'gum': 'Tranѳ'}, {'es': 'Regáleme Algo', 'gum': 'Kettra'}, {'es': 'Dame Algo', 'gum': 'Srѳttra'}]\n"
     ]
    }
   ],
   "source": [
    "translations = None\n",
    "with open('data/translations.json') as translations_file:\n",
    "    translations = json.load(translations_file)\n",
    "    translations = translations['translations']\n",
    "print(translations)"
   ]
  },
  {
   "cell_type": "markdown",
   "id": "bc2e38d3-7ac4-4be4-8277-81149fb81f84",
   "metadata": {},
   "source": [
    "## NOTA:\n",
    "Vamos a cargar un archivo JSON con algunas traducciones español - namuy wam \n",
    "Con los datos obtenidos procedemos a generar una conversación de contexto con el LLM"
   ]
  },
  {
   "cell_type": "code",
   "execution_count": 40,
   "id": "13e1ac52-2aef-4b11-8bd0-0ef8747f0023",
   "metadata": {},
   "outputs": [
    {
     "data": {
      "text/plain": [
       "{'history': [HumanMessage(content='Levantar'),\n",
       "  AIMessage(content='Kutrap'),\n",
       "  HumanMessage(content='Levantarse'),\n",
       "  AIMessage(content='Kia kutrap'),\n",
       "  HumanMessage(content='Bañar'),\n",
       "  AIMessage(content='Pirap'),\n",
       "  HumanMessage(content='Desayunar'),\n",
       "  AIMessage(content='Lѳtsѳ pi muchip'),\n",
       "  HumanMessage(content='Barrer'),\n",
       "  AIMessage(content='Palunchip'),\n",
       "  HumanMessage(content='Trabajar'),\n",
       "  AIMessage(content='Lutѳyu kuallip'),\n",
       "  HumanMessage(content='Dormir'),\n",
       "  AIMessage(content='Kip'),\n",
       "  HumanMessage(content='Descansar'),\n",
       "  AIMessage(content='Israp'),\n",
       "  HumanMessage(content='Caminar'),\n",
       "  AIMessage(content='May wan ip'),\n",
       "  HumanMessage(content='Cepillarse'),\n",
       "  AIMessage(content='Trukul pillmap'),\n",
       "  HumanMessage(content='Papá'),\n",
       "  AIMessage(content='Mѳskay'),\n",
       "  HumanMessage(content='Mamá'),\n",
       "  AIMessage(content='Usri'),\n",
       "  HumanMessage(content='Hermano'),\n",
       "  AIMessage(content='Nunek'),\n",
       "  HumanMessage(content='Hermana'),\n",
       "  AIMessage(content='Nuchak'),\n",
       "  HumanMessage(content='Abuelo'),\n",
       "  AIMessage(content='Shura'),\n",
       "  HumanMessage(content='Abuela'),\n",
       "  AIMessage(content='Shur'),\n",
       "  HumanMessage(content='Tía'),\n",
       "  AIMessage(content='Kuchiusri'),\n",
       "  HumanMessage(content='Tío'),\n",
       "  AIMessage(content='Kuchi Mѳskay'),\n",
       "  HumanMessage(content='Esposo'),\n",
       "  AIMessage(content='Kek'),\n",
       "  HumanMessage(content='Esposa'),\n",
       "  AIMessage(content='Srai'),\n",
       "  HumanMessage(content='Niño'),\n",
       "  AIMessage(content='unѳ'),\n",
       "  HumanMessage(content='La abuela se baña'),\n",
       "  AIMessage(content='shurape piran'),\n",
       "  HumanMessage(content='Mama Manuela La madre de los misak'),\n",
       "  AIMessage(content='Mama Manuela tru misakmerai usri'),\n",
       "  HumanMessage(content='El niño desayuna'),\n",
       "  AIMessage(content='unѳ lѳtsѳ mamik man'),\n",
       "  HumanMessage(content='La tia trabaja'),\n",
       "  AIMessage(content='Kuchiusri trausrѳ kullipik kѳn'),\n",
       "  HumanMessage(content='El Papá se cepilla'),\n",
       "  AIMessage(content='mѳskeinpe trukulmeran pillman'),\n",
       "  HumanMessage(content='Con quién vives en casa'),\n",
       "  AIMessage(content='Mu pa wapikuku ñui yaupe'),\n",
       "  HumanMessage(content='Tienes hermanos o hermanas'),\n",
       "  AIMessage(content='Nuchalѳ o nunelѳ tekaikѳtitru'),\n",
       "  HumanMessage(content='Esta es mi madre'),\n",
       "  AIMessage(content='Ikpe nai usrin kѳn'),\n",
       "  HumanMessage(content='Este es mi padre'),\n",
       "  AIMessage(content='Ikpe nai mѳskai kѳn'),\n",
       "  HumanMessage(content='Mi abuelo es cariñoso'),\n",
       "  AIMessage(content='Nai shurpe untakik kѳn'),\n",
       "  HumanMessage(content='Mi abuela cocina delicioso'),\n",
       "  AIMessage(content='Nai shurape maik nenѳpikѳn'),\n",
       "  HumanMessage(content='Mi mamá cocina rico'),\n",
       "  AIMessage(content='Nai usrimaik mik nenѳpikѳn'),\n",
       "  HumanMessage(content='Mi papá juega futbol'),\n",
       "  AIMessage(content='Nai mѳskai kaluz tulu yatap eshekѳpikѳn'),\n",
       "  HumanMessage(content='Mi papá juega conmigo'),\n",
       "  AIMessage(content='Nai mѳskaimpe napa eshekѳpikѳn'),\n",
       "  HumanMessage(content='Comprar casa nueva es más rentable que arrendar'),\n",
       "  AIMessage(content='penamik ya srѳiwan mas an palapweitѳkѳ pepatѳ wareiwan kanap'),\n",
       "  HumanMessage(content='Colombia ingresa a coalición global para reducir uso del carbón'),\n",
       "  AIMessage(content='Colombia kepian Mayelѳin katѳ mermantrap caterѳiwan Carbon teiwan'),\n",
       "  HumanMessage(content='Así será la despedida de Fernando Botero en Colombia: su cuerpo ya está en el país'),\n",
       "  AIMessage(content='ѳye kѳntrun unkua tamik Fernando Boteron Colombia srѳ: nui asrpe yantѳ nuy pirѳsrѳ tsun'),\n",
       "  HumanMessage(content='ya se inicio la construcción del puente'),\n",
       "  AIMessage(content='yantѳ chap pѳlpasran piuntsiwan marѳp'),\n",
       "  HumanMessage(content='Las regiones de nuestro hermoso país'),\n",
       "  AIMessage(content='Wareinchamera namuy tapchi nu pirѳyu'),\n",
       "  HumanMessage(content='Fernando Botero también conquistó China con su talento y genialidad'),\n",
       "  AIMessage(content='Fernando Botero kucha tap ieikѳn chinasrѳ nui chi marilѳ tѳka incha nuy tap kuitѳka'),\n",
       "  HumanMessage(content='loque hicieron esta muy mal'),\n",
       "  AIMessage(content='trѳ maripe purѳ calѳ kѳn'),\n",
       "  HumanMessage(content='Esta es la primera evidencia de un agujero negro girando detectada por astrónomos'),\n",
       "  AIMessage(content='ik kѳn kan asamik kan trap unѳ yalik  llirappasrapik asik srѳmpalasrѳyu ashipelѳ'),\n",
       "  HumanMessage(content='Joven de la minga indígena resultó gravemente herido tras caer de una chiva'),\n",
       "  AIMessage(content='mastinѳ alikyu uñipik ketrintiken pinepѳña natsaulliyu kutri pinѳpeña'),\n",
       "  HumanMessage(content='La periodista francesa Guylaine Roujol hizo una investigación sobre los falsos positivos en Colombia'),\n",
       "  AIMessage(content='paya ashipik Franciasrѳn kallei ishuk Guylaine Roujol maran kan payamarik tru isatѳ chi marar kѳmupentѳ kuetsilan misameran i namuy nu pirѳyu Colombia'),\n",
       "  HumanMessage(content='El último paso antes de cruzar el Darién: así es el campamento de Acandí'),\n",
       "  AIMessage(content='srape punik purammuatѳ Darien: ѳye kѳn tru pumik isrѳntrap Acandí srѳ'),\n",
       "  HumanMessage(content='¿Cuáles son las mejores razas de perros guía?'),\n",
       "  AIMessage(content='¿mѳilѳ kѳ mas tap  weramera pera mѳnamelѳ?'),\n",
       "  HumanMessage(content='Familia de colombiano que murió en accidente en Brasil pide ayuda para repatriarlo'),\n",
       "  AIMessage(content='yawelѳ nammisak wei tru kueik can chi puraitrapkui mѳrmik  Brasil srѳ'),\n",
       "  HumanMessage(content='Próximo alcalde de Bogotá no contempla en su agenda a los venezolanos'),\n",
       "  AIMessage(content='srѳ karupik attrapik Bogotá srik  shchap misrmѳn nuy pѳrinuk venezolanos meran'),\n",
       "  HumanMessage(content='La Nueva Licorera de Boyacá avanza a buena marcha'),\n",
       "  AIMessage(content='srѳi pachipi yaninu Boyacá srѳ tap ip pasran'),\n",
       "  HumanMessage(content='Teresita Gómez dedicó su recital al maestro Fernando Botero'),\n",
       "  AIMessage(content='Teresita Gómez truiwan tamariwan miran Fernando Botero'),\n",
       "  HumanMessage(content='Papas rostizadas al horno con orégano: aquí está la receta saludable y deliciosa'),\n",
       "  AIMessage(content='ye mera karilѳ nuk nak kuyu  oregano pa: yu may maramik pitetѳ waramik purѳ maikѳn'),\n",
       "  HumanMessage(content='El nuevo producto financiero que Nubank traerá a Colombia'),\n",
       "  AIMessage(content='srѳi chikepen yanamelѳ Nubak sruattrun Namuy nupirѳyu Colombia'),\n",
       "  HumanMessage(content='Bancolombia obtuvo certificación por sus esfuerzos en equidad de género y diversidad'),\n",
       "  AIMessage(content='Bancolombia  utan Certificación  nem marinkuenta lata lata mayelѳi'),\n",
       "  HumanMessage(content='Copilot, apuesta de inteligencia artificial de Microsoft que cambiará uso de Windows'),\n",
       "  AIMessage(content='Copilot, marѳp inteligencia artificil tei Microsoftwei truipe pemeik katѳramik windows wan'),\n",
       "  HumanMessage(content='Comprar casa nueva es más rentable que arrendar'),\n",
       "  AIMessage(content='penamik ya srѳiwan mas an palapweitѳkѳ pepatѳ wareiwan kanap'),\n",
       "  HumanMessage(content='Colombia ingresa a coalición global para reducir uso del carbón'),\n",
       "  AIMessage(content='Colombia kepian Mayelѳin katѳ mermantrap caterѳiwan Carbon teiwan'),\n",
       "  HumanMessage(content='Así será la despedida de Fernando Botero en Colombia: su cuerpo ya está en el país'),\n",
       "  AIMessage(content='ѳye kѳntrun unkua tamik Fernando Boteron Colombia srѳ: nui asrpe yantѳ nuy pirѳsrѳ tsun'),\n",
       "  HumanMessage(content='Mercurio será visible desde la Tierra durante este fin de semana y así podrá verlo'),\n",
       "  AIMessage(content='Mercuriope asamtik kѳntrun  yu pirѳyu kutri i patsamptrune inya eye asamtik kѳntrun'),\n",
       "  HumanMessage(content='ya se inicio la construcción del puente'),\n",
       "  AIMessage(content='yantѳ chap pѳlpasran piuntsiwan marѳp'),\n",
       "  HumanMessage(content='Los prestamistas de la región de Antioquia'),\n",
       "  AIMessage(content='An pepepelѳ Antioquiasrѳ'),\n",
       "  HumanMessage(content='Las regiones de nuestro hermoso país'),\n",
       "  AIMessage(content='Wareinchamera namuy tapchi nu pirѳyu'),\n",
       "  HumanMessage(content='Bonito'),\n",
       "  AIMessage(content='Tapshik'),\n",
       "  HumanMessage(content='Amor'),\n",
       "  AIMessage(content='Untak Kѳtan'),\n",
       "  HumanMessage(content='¿Cómo Te Llamas?'),\n",
       "  AIMessage(content='Chi Munchikuku'),\n",
       "  HumanMessage(content='¿Como Le Fue En El Dia?'),\n",
       "  AIMessage(content='maik ita kualѳm yu'),\n",
       "  HumanMessage(content='Buenos Días'),\n",
       "  AIMessage(content='Pishintѳkѳ'),\n",
       "  HumanMessage(content='Buenas Tardes'),\n",
       "  AIMessage(content='Yantѳ Mawan'),\n",
       "  HumanMessage(content='Buenos Días'),\n",
       "  AIMessage(content='Pachiktѳkѳn'),\n",
       "  HumanMessage(content='¿Hola Cómo Estas?'),\n",
       "  AIMessage(content='Ka Mawaku'),\n",
       "  HumanMessage(content='¿Cómo Estas?'),\n",
       "  AIMessage(content='Ka Uñku'),\n",
       "  HumanMessage(content='¿Como Están?'),\n",
       "  AIMessage(content='Ka Amѳñike'),\n",
       "  HumanMessage(content='Hasta Pronto'),\n",
       "  AIMessage(content='Unkua'),\n",
       "  HumanMessage(content='¿Cómo Amaneció?'),\n",
       "  AIMessage(content='Ka Kualmaku'),\n",
       "  HumanMessage(content='Buenos Días'),\n",
       "  AIMessage(content='Matuku'),\n",
       "  HumanMessage(content='Buenos Días'),\n",
       "  AIMessage(content='Matѳke'),\n",
       "  HumanMessage(content='Présteme Algo'),\n",
       "  AIMessage(content='Peptra'),\n",
       "  HumanMessage(content='Tráigame Algo'),\n",
       "  AIMessage(content='Sruatra'),\n",
       "  HumanMessage(content='Entregue Algo'),\n",
       "  AIMessage(content='Tranѳ'),\n",
       "  HumanMessage(content='Regáleme Algo'),\n",
       "  AIMessage(content='Kettra'),\n",
       "  HumanMessage(content='Dame Algo'),\n",
       "  AIMessage(content='Srѳttra')]}"
      ]
     },
     "execution_count": 40,
     "metadata": {},
     "output_type": "execute_result"
    }
   ],
   "source": [
    "\n",
    "memory_chain = ConversationBufferMemory(\n",
    "    return_messages=True,\n",
    "    ai_prefix=\"Assistant\",\n",
    "    human_prefix=\"Human\"\n",
    ")\n",
    "\n",
    "for translation in translations:\n",
    "    memory_chain.save_context({\"input\": translation['es']}, {\"output\": translation['gum']})\n",
    "memory_chain.load_memory_variables({})"
   ]
  },
  {
   "cell_type": "code",
   "execution_count": 41,
   "id": "ff32ceca-dc4b-428b-ae45-272421a429e9",
   "metadata": {},
   "outputs": [],
   "source": [
    "\n",
    "template = \"\"\"\n",
    "    The following is a friendly conversation between a human and an AI. The AI is an expert translator of Namuy Wam. If the AI does not know the answer to a question, it truthfully says it does not know.\n",
    "    Current conversation:\n",
    "    {history}\n",
    "    Human: {input}\n",
    "    Assistant:\"\"\"\n",
    "\n",
    "PROMPT = PromptTemplate(input_variables=[\"history\", \"input\"], template=template)\n",
    "conversation= ConversationChain(\n",
    "    llm=llm_claude, \n",
    "    verbose=True, \n",
    "    memory=memory_chain,\n",
    "    prompt=PROMPT\n",
    ")"
   ]
  },
  {
   "cell_type": "code",
   "execution_count": 45,
   "id": "b3436d7d-96e5-4301-a07e-cf21e40ef680",
   "metadata": {},
   "outputs": [
    {
     "name": "stdout",
     "output_type": "stream",
     "text": [
      "\n",
      "\n",
      "\u001b[1m> Entering new ConversationChain chain...\u001b[0m\n",
      "Prompt after formatting:\n",
      "\u001b[32;1m\u001b[1;3m\n",
      "    The following is a friendly conversation between a human and an AI. The AI is an expert translator of Namuy Wam. If the AI does not know the answer to a question, it truthfully says it does not know.\n",
      "    Current conversation:\n",
      "    [HumanMessage(content='Levantar'), AIMessage(content='Kutrap'), HumanMessage(content='Levantarse'), AIMessage(content='Kia kutrap'), HumanMessage(content='Bañar'), AIMessage(content='Pirap'), HumanMessage(content='Desayunar'), AIMessage(content='Lѳtsѳ pi muchip'), HumanMessage(content='Barrer'), AIMessage(content='Palunchip'), HumanMessage(content='Trabajar'), AIMessage(content='Lutѳyu kuallip'), HumanMessage(content='Dormir'), AIMessage(content='Kip'), HumanMessage(content='Descansar'), AIMessage(content='Israp'), HumanMessage(content='Caminar'), AIMessage(content='May wan ip'), HumanMessage(content='Cepillarse'), AIMessage(content='Trukul pillmap'), HumanMessage(content='Papá'), AIMessage(content='Mѳskay'), HumanMessage(content='Mamá'), AIMessage(content='Usri'), HumanMessage(content='Hermano'), AIMessage(content='Nunek'), HumanMessage(content='Hermana'), AIMessage(content='Nuchak'), HumanMessage(content='Abuelo'), AIMessage(content='Shura'), HumanMessage(content='Abuela'), AIMessage(content='Shur'), HumanMessage(content='Tía'), AIMessage(content='Kuchiusri'), HumanMessage(content='Tío'), AIMessage(content='Kuchi Mѳskay'), HumanMessage(content='Esposo'), AIMessage(content='Kek'), HumanMessage(content='Esposa'), AIMessage(content='Srai'), HumanMessage(content='Niño'), AIMessage(content='unѳ'), HumanMessage(content='La abuela se baña'), AIMessage(content='shurape piran'), HumanMessage(content='Mama Manuela La madre de los misak'), AIMessage(content='Mama Manuela tru misakmerai usri'), HumanMessage(content='El niño desayuna'), AIMessage(content='unѳ lѳtsѳ mamik man'), HumanMessage(content='La tia trabaja'), AIMessage(content='Kuchiusri trausrѳ kullipik kѳn'), HumanMessage(content='El Papá se cepilla'), AIMessage(content='mѳskeinpe trukulmeran pillman'), HumanMessage(content='Con quién vives en casa'), AIMessage(content='Mu pa wapikuku ñui yaupe'), HumanMessage(content='Tienes hermanos o hermanas'), AIMessage(content='Nuchalѳ o nunelѳ tekaikѳtitru'), HumanMessage(content='Esta es mi madre'), AIMessage(content='Ikpe nai usrin kѳn'), HumanMessage(content='Este es mi padre'), AIMessage(content='Ikpe nai mѳskai kѳn'), HumanMessage(content='Mi abuelo es cariñoso'), AIMessage(content='Nai shurpe untakik kѳn'), HumanMessage(content='Mi abuela cocina delicioso'), AIMessage(content='Nai shurape maik nenѳpikѳn'), HumanMessage(content='Mi mamá cocina rico'), AIMessage(content='Nai usrimaik mik nenѳpikѳn'), HumanMessage(content='Mi papá juega futbol'), AIMessage(content='Nai mѳskai kaluz tulu yatap eshekѳpikѳn'), HumanMessage(content='Mi papá juega conmigo'), AIMessage(content='Nai mѳskaimpe napa eshekѳpikѳn'), HumanMessage(content='Comprar casa nueva es más rentable que arrendar'), AIMessage(content='penamik ya srѳiwan mas an palapweitѳkѳ pepatѳ wareiwan kanap'), HumanMessage(content='Colombia ingresa a coalición global para reducir uso del carbón'), AIMessage(content='Colombia kepian Mayelѳin katѳ mermantrap caterѳiwan Carbon teiwan'), HumanMessage(content='Así será la despedida de Fernando Botero en Colombia: su cuerpo ya está en el país'), AIMessage(content='ѳye kѳntrun unkua tamik Fernando Boteron Colombia srѳ: nui asrpe yantѳ nuy pirѳsrѳ tsun'), HumanMessage(content='ya se inicio la construcción del puente'), AIMessage(content='yantѳ chap pѳlpasran piuntsiwan marѳp'), HumanMessage(content='Las regiones de nuestro hermoso país'), AIMessage(content='Wareinchamera namuy tapchi nu pirѳyu'), HumanMessage(content='Fernando Botero también conquistó China con su talento y genialidad'), AIMessage(content='Fernando Botero kucha tap ieikѳn chinasrѳ nui chi marilѳ tѳka incha nuy tap kuitѳka'), HumanMessage(content='loque hicieron esta muy mal'), AIMessage(content='trѳ maripe purѳ calѳ kѳn'), HumanMessage(content='Esta es la primera evidencia de un agujero negro girando detectada por astrónomos'), AIMessage(content='ik kѳn kan asamik kan trap unѳ yalik  llirappasrapik asik srѳmpalasrѳyu ashipelѳ'), HumanMessage(content='Joven de la minga indígena resultó gravemente herido tras caer de una chiva'), AIMessage(content='mastinѳ alikyu uñipik ketrintiken pinepѳña natsaulliyu kutri pinѳpeña'), HumanMessage(content='La periodista francesa Guylaine Roujol hizo una investigación sobre los falsos positivos en Colombia'), AIMessage(content='paya ashipik Franciasrѳn kallei ishuk Guylaine Roujol maran kan payamarik tru isatѳ chi marar kѳmupentѳ kuetsilan misameran i namuy nu pirѳyu Colombia'), HumanMessage(content='El último paso antes de cruzar el Darién: así es el campamento de Acandí'), AIMessage(content='srape punik purammuatѳ Darien: ѳye kѳn tru pumik isrѳntrap Acandí srѳ'), HumanMessage(content='¿Cuáles son las mejores razas de perros guía?'), AIMessage(content='¿mѳilѳ kѳ mas tap  weramera pera mѳnamelѳ?'), HumanMessage(content='Familia de colombiano que murió en accidente en Brasil pide ayuda para repatriarlo'), AIMessage(content='yawelѳ nammisak wei tru kueik can chi puraitrapkui mѳrmik  Brasil srѳ'), HumanMessage(content='Próximo alcalde de Bogotá no contempla en su agenda a los venezolanos'), AIMessage(content='srѳ karupik attrapik Bogotá srik  shchap misrmѳn nuy pѳrinuk venezolanos meran'), HumanMessage(content='La Nueva Licorera de Boyacá avanza a buena marcha'), AIMessage(content='srѳi pachipi yaninu Boyacá srѳ tap ip pasran'), HumanMessage(content='Teresita Gómez dedicó su recital al maestro Fernando Botero'), AIMessage(content='Teresita Gómez truiwan tamariwan miran Fernando Botero'), HumanMessage(content='Papas rostizadas al horno con orégano: aquí está la receta saludable y deliciosa'), AIMessage(content='ye mera karilѳ nuk nak kuyu  oregano pa: yu may maramik pitetѳ waramik purѳ maikѳn'), HumanMessage(content='El nuevo producto financiero que Nubank traerá a Colombia'), AIMessage(content='srѳi chikepen yanamelѳ Nubak sruattrun Namuy nupirѳyu Colombia'), HumanMessage(content='Bancolombia obtuvo certificación por sus esfuerzos en equidad de género y diversidad'), AIMessage(content='Bancolombia  utan Certificación  nem marinkuenta lata lata mayelѳi'), HumanMessage(content='Copilot, apuesta de inteligencia artificial de Microsoft que cambiará uso de Windows'), AIMessage(content='Copilot, marѳp inteligencia artificil tei Microsoftwei truipe pemeik katѳramik windows wan'), HumanMessage(content='Comprar casa nueva es más rentable que arrendar'), AIMessage(content='penamik ya srѳiwan mas an palapweitѳkѳ pepatѳ wareiwan kanap'), HumanMessage(content='Colombia ingresa a coalición global para reducir uso del carbón'), AIMessage(content='Colombia kepian Mayelѳin katѳ mermantrap caterѳiwan Carbon teiwan'), HumanMessage(content='Así será la despedida de Fernando Botero en Colombia: su cuerpo ya está en el país'), AIMessage(content='ѳye kѳntrun unkua tamik Fernando Boteron Colombia srѳ: nui asrpe yantѳ nuy pirѳsrѳ tsun'), HumanMessage(content='Mercurio será visible desde la Tierra durante este fin de semana y así podrá verlo'), AIMessage(content='Mercuriope asamtik kѳntrun  yu pirѳyu kutri i patsamptrune inya eye asamtik kѳntrun'), HumanMessage(content='ya se inicio la construcción del puente'), AIMessage(content='yantѳ chap pѳlpasran piuntsiwan marѳp'), HumanMessage(content='Los prestamistas de la región de Antioquia'), AIMessage(content='An pepepelѳ Antioquiasrѳ'), HumanMessage(content='Las regiones de nuestro hermoso país'), AIMessage(content='Wareinchamera namuy tapchi nu pirѳyu'), HumanMessage(content='Bonito'), AIMessage(content='Tapshik'), HumanMessage(content='Amor'), AIMessage(content='Untak Kѳtan'), HumanMessage(content='¿Cómo Te Llamas?'), AIMessage(content='Chi Munchikuku'), HumanMessage(content='¿Como Le Fue En El Dia?'), AIMessage(content='maik ita kualѳm yu'), HumanMessage(content='Buenos Días'), AIMessage(content='Pishintѳkѳ'), HumanMessage(content='Buenas Tardes'), AIMessage(content='Yantѳ Mawan'), HumanMessage(content='Buenos Días'), AIMessage(content='Pachiktѳkѳn'), HumanMessage(content='¿Hola Cómo Estas?'), AIMessage(content='Ka Mawaku'), HumanMessage(content='¿Cómo Estas?'), AIMessage(content='Ka Uñku'), HumanMessage(content='¿Como Están?'), AIMessage(content='Ka Amѳñike'), HumanMessage(content='Hasta Pronto'), AIMessage(content='Unkua'), HumanMessage(content='¿Cómo Amaneció?'), AIMessage(content='Ka Kualmaku'), HumanMessage(content='Buenos Días'), AIMessage(content='Matuku'), HumanMessage(content='Buenos Días'), AIMessage(content='Matѳke'), HumanMessage(content='Présteme Algo'), AIMessage(content='Peptra'), HumanMessage(content='Tráigame Algo'), AIMessage(content='Sruatra'), HumanMessage(content='Entregue Algo'), AIMessage(content='Tranѳ'), HumanMessage(content='Regáleme Algo'), AIMessage(content='Kettra'), HumanMessage(content='Dame Algo'), AIMessage(content='Srѳttra'), HumanMessage(content='Traduce Desayunar a Namuy Wam'), AIMessage(content=' La traducción de Desayunar al namuy wam es:\\n\\nLѳtsѳ pi muchip'), HumanMessage(content='Traduce Tienes hermanos y hermanas a Namuy Wam'), AIMessage(content=' La traducción de \"Tienes hermanos y hermanas\" al namuy wam es:\\n\\nNuchalѳ tѳka nunelѳ marikѳtitru'), HumanMessage(content='Traduce El perro corre a Namuy Wam'), AIMessage(content=' La traducción de \"El perro corre\" al namuy wam es:\\n\\nPera naniltipik kѳn')]\n",
      "    Human: Traduce 'El abuelo desayuna' a Namuy Wam\n",
      "    Assistant:\u001b[0m\n",
      "\n",
      "\u001b[1m> Finished chain.\u001b[0m\n"
     ]
    },
    {
     "data": {
      "text/plain": [
       "' La traducción de \"El abuelo desayuna\" al namuy wam es:\\n\\nShurpe lѳtsѳ pi muchip'"
      ]
     },
     "execution_count": 45,
     "metadata": {},
     "output_type": "execute_result"
    }
   ],
   "source": [
    "conversation.predict(input=\"Traduce 'El abuelo desayuna' a Namuy Wam\")"
   ]
  },
  {
   "cell_type": "code",
   "execution_count": null,
   "id": "db9b0be2-9353-4764-beb0-0b8114066311",
   "metadata": {},
   "outputs": [],
   "source": []
  }
 ],
 "metadata": {
  "kernelspec": {
   "display_name": "virtualenv",
   "language": "python",
   "name": "virtualenv"
  },
  "language_info": {
   "codemirror_mode": {
    "name": "ipython",
    "version": 3
   },
   "file_extension": ".py",
   "mimetype": "text/x-python",
   "name": "python",
   "nbconvert_exporter": "python",
   "pygments_lexer": "ipython3",
   "version": "3.11.2"
  }
 },
 "nbformat": 4,
 "nbformat_minor": 5
}
