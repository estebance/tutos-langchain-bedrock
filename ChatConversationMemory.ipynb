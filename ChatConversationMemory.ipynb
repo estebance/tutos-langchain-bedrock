{
 "cells": [
  {
   "cell_type": "code",
   "execution_count": 3,
   "id": "bac4d5ea-237b-4adc-bb5b-dfff369c9f68",
   "metadata": {},
   "outputs": [],
   "source": [
    "from langchain.llms.bedrock import Bedrock"
   ]
  },
  {
   "cell_type": "code",
   "execution_count": 4,
   "id": "36d9e5b3-b7c9-426c-8b16-e401f75072b7",
   "metadata": {},
   "outputs": [],
   "source": [
    "# invoke the LLM\n",
    "llm_claude = Bedrock(\n",
    "  model_id=\"anthropic.claude-v2\",\n",
    "  model_kwargs={'max_tokens_to_sample': 200},\n",
    "  credentials_profile_name=\"default\", \n",
    "  region_name=\"us-east-1\"\n",
    ")"
   ]
  },
  {
   "cell_type": "code",
   "execution_count": 14,
   "id": "0a15ca91-9c7d-4fa0-8084-7307bcdcb44f",
   "metadata": {},
   "outputs": [],
   "source": [
    "from langchain.embeddings import BedrockEmbeddings\n",
    "from langchain.vectorstores import FAISS\n",
    "from langchain.text_splitter import RecursiveCharacterTextSplitter\n",
    "from langchain.document_loaders import PyPDFLoader\n",
    "from langchain.prompts import PromptTemplate"
   ]
  },
  {
   "cell_type": "code",
   "execution_count": 10,
   "id": "13e1ac52-2aef-4b11-8bd0-0ef8747f0023",
   "metadata": {},
   "outputs": [
    {
     "name": "stdout",
     "output_type": "stream",
     "text": [
      "Documentos cargados=2\n"
     ]
    }
   ],
   "source": [
    "# load data\n",
    "loader = PyPDFLoader(\"data/constitucion-politica-col.pdf\")\n",
    "documents_col = loader.load() #\n",
    "print(f\"Documentos cargados={len(documents_col)}\")\n",
    "\n",
    "docs = RecursiveCharacterTextSplitter(\n",
    "    length_function = len,\n",
    "    is_separator_regex = False,\n",
    "    chunk_size=100, \n",
    "    chunk_overlap=20\n",
    ").split_documents(documents_col)\n"
   ]
  },
  {
   "cell_type": "code",
   "execution_count": 11,
   "id": "ff32ceca-dc4b-428b-ae45-272421a429e9",
   "metadata": {},
   "outputs": [
    {
     "name": "stdout",
     "output_type": "stream",
     "text": [
      "vectorstore faiss con aws bedrock: elementos en el indice=59\n"
     ]
    }
   ],
   "source": [
    "# define the retriever \n",
    "vectorstore_faiss_aws = None\n",
    "try:\n",
    "    bedrock_embeddings = BedrockEmbeddings(\n",
    "        credentials_profile_name=\"default\", region_name=\"us-east-1\"\n",
    "    )\n",
    "    vectorstore_faiss_aws = FAISS.from_documents(\n",
    "        documents=docs,\n",
    "        embedding = bedrock_embeddings\n",
    "    )\n",
    "    print(f\"vectorstore faiss con aws bedrock: elementos en el indice={vectorstore_faiss_aws.index.ntotal}\")\n",
    "\n",
    "except ValueError as error:\n",
    "    print(f\"Error conectando con el vector store: {error}\")\n",
    "    raise error"
   ]
  },
  {
   "cell_type": "code",
   "execution_count": 12,
   "id": "274f312d-4a2d-4fbd-971d-1fac77a55e88",
   "metadata": {},
   "outputs": [
    {
     "name": "stdout",
     "output_type": "stream",
     "text": [
      "Given the following conversation and a follow up question, rephrase the follow up question to be a standalone question, in its original language.\n",
      "\n",
      "Chat History:\n",
      "{chat_history}\n",
      "Follow Up Input: {question}\n",
      "Standalone question:\n"
     ]
    }
   ],
   "source": [
    "from langchain.chains.conversational_retrieval.prompts import CONDENSE_QUESTION_PROMPT\n",
    "print(CONDENSE_QUESTION_PROMPT.template)"
   ]
  },
  {
   "cell_type": "code",
   "execution_count": 20,
   "id": "af342dd3-e7c4-43ae-b169-2e5626174774",
   "metadata": {},
   "outputs": [],
   "source": [
    "from langchain.chains import ConversationalRetrievalChain\n",
    "from langchain.memory import ConversationBufferMemory\n",
    "\n",
    "memory_chain = ConversationBufferMemory(memory_key=\"chat_history\", return_messages=True)\n",
    "\n",
    "qa = ConversationalRetrievalChain.from_llm(\n",
    "    llm=llm_claude, \n",
    "    retriever=vectorstore_faiss_aws.as_retriever(), \n",
    "    memory=memory_chain,\n",
    "    condense_question_prompt=CONDENSE_QUESTION_PROMPT,\n",
    "    verbose=True, \n",
    "    chain_type='stuff', # 'refine',\n",
    "    #max_tokens_limit=300\n",
    ")"
   ]
  },
  {
   "cell_type": "code",
   "execution_count": 21,
   "id": "fac89371-c6c2-47cd-9f35-cbdb38688f8a",
   "metadata": {},
   "outputs": [],
   "source": [
    "# the LLMChain prompt to get the answer. the ConversationalRetrievalChange does not expose this parameter in the constructor\n",
    "qa.combine_docs_chain.llm_chain.prompt = PromptTemplate.from_template(\"\"\"\n",
    "{context}\n",
    "\n",
    "Human: Use at maximum 3 sentences to answer the question inside the <q></q> XML tags. \n",
    "\n",
    "<q>{question}</q>\n",
    "\n",
    "Do not use any XML tags in the answer. If the answer is not in the context say \"Sorry, I don't know as the answer was not found in the context\"\n",
    "\n",
    "Assistant:\"\"\")"
   ]
  },
  {
   "cell_type": "code",
   "execution_count": 22,
   "id": "a03c866d-31b8-4353-8d0b-45da5ccf8d4a",
   "metadata": {},
   "outputs": [
    {
     "name": "stdout",
     "output_type": "stream",
     "text": [
      "\n",
      "\n",
      "\u001b[1m> Entering new StuffDocumentsChain chain...\u001b[0m\n",
      "\n",
      "\n",
      "\u001b[1m> Entering new LLMChain chain...\u001b[0m\n",
      "Prompt after formatting:\n",
      "\u001b[32;1m\u001b[1;3m\n",
      "Artículo 1 °. Colombia es un Estado social \n",
      "de derecho, organizado en forma de República\n",
      "\n",
      "Colombia, en su vida, honra, bienes, creencias, y \n",
      "demás derechos y libertades, y para asegurar el\n",
      "\n",
      "PREÁMBULO\n",
      "EL PUEBLO DE COLOMBIA,\n",
      "en ejercicio de su poder soberano, representa -\n",
      "\n",
      "cumplimiento de los deberes sociales del Estado y \n",
      "de los particulares.\n",
      "\n",
      "Human: Use at maximum 3 sentences to answer the question inside the <q></q> XML tags. \n",
      "\n",
      "<q>colombia es un estado social de derecho?</q>\n",
      "\n",
      "Do not use any XML tags in the answer. If the answer is not in the context say \"Sorry, I don't know as the answer was not found in the context\"\n",
      "\n",
      "Assistant:\u001b[0m\n",
      "\n",
      "\u001b[1m> Finished chain.\u001b[0m\n",
      "\n",
      "\u001b[1m> Finished chain.\u001b[0m\n"
     ]
    },
    {
     "data": {
      "text/plain": [
       "' <q>colombia es un estado social de derecho?</q>\\n\\nSí, Colombia es un Estado social de derecho, organizado en forma de República unitaria, descentralizada, con autonomía de sus entidades territoriales, democrática, participativa y pluralista.'"
      ]
     },
     "execution_count": 22,
     "metadata": {},
     "output_type": "execute_result"
    }
   ],
   "source": [
    "qa.run('colombia es un estado social de derecho?')"
   ]
  },
  {
   "cell_type": "code",
   "execution_count": 23,
   "id": "6e43d4c8-cb2d-45b0-9e61-a8989154f5a1",
   "metadata": {},
   "outputs": [
    {
     "name": "stdout",
     "output_type": "stream",
     "text": [
      "\n",
      "\n",
      "\u001b[1m> Entering new LLMChain chain...\u001b[0m\n",
      "Prompt after formatting:\n",
      "\u001b[32;1m\u001b[1;3mGiven the following conversation and a follow up question, rephrase the follow up question to be a standalone question, in its original language.\n",
      "\n",
      "Chat History:\n",
      "\n",
      "Human: colombia es un estado social de derecho?\n",
      "Assistant:  <q>colombia es un estado social de derecho?</q>\n",
      "\n",
      "Sí, Colombia es un Estado social de derecho, organizado en forma de República unitaria, descentralizada, con autonomía de sus entidades territoriales, democrática, participativa y pluralista.\n",
      "Follow Up Input: cuales son los deberes del estado?\n",
      "Standalone question:\u001b[0m\n",
      "\n",
      "\u001b[1m> Finished chain.\u001b[0m\n",
      "\n",
      "\n",
      "\u001b[1m> Entering new StuffDocumentsChain chain...\u001b[0m\n",
      "\n",
      "\n",
      "\u001b[1m> Entering new LLMChain chain...\u001b[0m\n",
      "Prompt after formatting:\n",
      "\u001b[32;1m\u001b[1;3m\n",
      "Artículo 1 °. Colombia es un Estado social \n",
      "de derecho, organizado en forma de República\n",
      "\n",
      "cumplimiento de los deberes sociales del Estado y \n",
      "de los particulares.\n",
      "\n",
      "Colombia, en su vida, honra, bienes, creencias, y \n",
      "demás derechos y libertades, y para asegurar el\n",
      "\n",
      "De los Principios Fundamentales  (Artículos 5-10)Artículo 5°. El Estado reconoce, sin discrimi -\n",
      "\n",
      "Human: Use at maximum 3 sentences to answer the question inside the <q></q> XML tags. \n",
      "\n",
      "<q> ¿Cuáles son los deberes del Estado colombiano como Estado social de derecho?</q>\n",
      "\n",
      "Do not use any XML tags in the answer. If the answer is not in the context say \"Sorry, I don't know as the answer was not found in the context\"\n",
      "\n",
      "Assistant:\u001b[0m\n",
      "\n",
      "\u001b[1m> Finished chain.\u001b[0m\n",
      "\n",
      "\u001b[1m> Finished chain.\u001b[0m\n"
     ]
    },
    {
     "data": {
      "text/plain": [
       "' <q> Los deberes del Estado colombiano como Estado social de derecho son: garantizar la efectividad de los principios, derechos y deberes consagrados en la Constitución; facilitar la participación de todos en las decisiones que los afectan y en la vida económica, política, administrativa y cultural de la Nación; promover las condiciones para que la igualdad sea real y efectiva y adoptar medidas en favor de grupos discriminados o marginados; y proteger a todas las personas residentes en Colombia en su vida, honra, bienes, creencias y demás derechos y libertades. </q>'"
      ]
     },
     "execution_count": 23,
     "metadata": {},
     "output_type": "execute_result"
    }
   ],
   "source": [
    "qa.run('cuales son los deberes del estado?')"
   ]
  },
  {
   "cell_type": "code",
   "execution_count": 24,
   "id": "cfa46f64-f44d-4589-80b8-ebdc385c0329",
   "metadata": {},
   "outputs": [
    {
     "name": "stdout",
     "output_type": "stream",
     "text": [
      "\n",
      "\n",
      "\u001b[1m> Entering new LLMChain chain...\u001b[0m\n",
      "Prompt after formatting:\n",
      "\u001b[32;1m\u001b[1;3mGiven the following conversation and a follow up question, rephrase the follow up question to be a standalone question, in its original language.\n",
      "\n",
      "Chat History:\n",
      "\n",
      "Human: colombia es un estado social de derecho?\n",
      "Assistant:  <q>colombia es un estado social de derecho?</q>\n",
      "\n",
      "Sí, Colombia es un Estado social de derecho, organizado en forma de República unitaria, descentralizada, con autonomía de sus entidades territoriales, democrática, participativa y pluralista.\n",
      "Human: cuales son los deberes del estado?\n",
      "Assistant:  <q> Los deberes del Estado colombiano como Estado social de derecho son: garantizar la efectividad de los principios, derechos y deberes consagrados en la Constitución; facilitar la participación de todos en las decisiones que los afectan y en la vida económica, política, administrativa y cultural de la Nación; promover las condiciones para que la igualdad sea real y efectiva y adoptar medidas en favor de grupos discriminados o marginados; y proteger a todas las personas residentes en Colombia en su vida, honra, bienes, creencias y demás derechos y libertades. </q>\n",
      "Follow Up Input: deben ser protegidas las personas en colombia?\n",
      "Standalone question:\u001b[0m\n",
      "\n",
      "\u001b[1m> Finished chain.\u001b[0m\n",
      "\n",
      "\n",
      "\u001b[1m> Entering new StuffDocumentsChain chain...\u001b[0m\n",
      "\n",
      "\n",
      "\u001b[1m> Entering new LLMChain chain...\u001b[0m\n",
      "Prompt after formatting:\n",
      "\u001b[32;1m\u001b[1;3m\n",
      "Colombia, en su vida, honra, bienes, creencias, y \n",
      "demás derechos y libertades, y para asegurar el\n",
      "\n",
      "Es deber de los nacionales y de los extranjeros \n",
      "en Colombia acatar la Constitución y las leyes, y\n",
      "\n",
      "Artículo 1 °. Colombia es un Estado social \n",
      "de derecho, organizado en forma de República\n",
      "\n",
      "Artículo 7°. El Estado reconoce y protege la \n",
      "diversidad étnica y cultural de la nación colombiana.\n",
      "\n",
      "Human: Use at maximum 3 sentences to answer the question inside the <q></q> XML tags. \n",
      "\n",
      "<q> ¿Deben ser protegidas las personas residentes en Colombia en su vida, honra, bienes, creencias y demás derechos y libertades?</q>\n",
      "\n",
      "Do not use any XML tags in the answer. If the answer is not in the context say \"Sorry, I don't know as the answer was not found in the context\"\n",
      "\n",
      "Assistant:\u001b[0m\n",
      "\n",
      "\u001b[1m> Finished chain.\u001b[0m\n",
      "\n",
      "\u001b[1m> Finished chain.\u001b[0m\n"
     ]
    },
    {
     "data": {
      "text/plain": [
       "' <q> Según el Artículo 2 de la Constitución Política de Colombia, es deber del Estado garantizar la efectividad de los principios, derechos y deberes consagrados en la Constitución. Por lo tanto, el Estado debe proteger a las personas residentes en Colombia en su vida, honra, bienes, creencias y demás derechos y libertades. </q>'"
      ]
     },
     "execution_count": 24,
     "metadata": {},
     "output_type": "execute_result"
    }
   ],
   "source": [
    "qa.run('deben ser protegidas las personas en colombia?')"
   ]
  },
  {
   "cell_type": "code",
   "execution_count": null,
   "id": "422e0204-769b-400b-9247-3d496976932f",
   "metadata": {},
   "outputs": [],
   "source": []
  }
 ],
 "metadata": {
  "kernelspec": {
   "display_name": "virtualenv",
   "language": "python",
   "name": "virtualenv"
  },
  "language_info": {
   "codemirror_mode": {
    "name": "ipython",
    "version": 3
   },
   "file_extension": ".py",
   "mimetype": "text/x-python",
   "name": "python",
   "nbconvert_exporter": "python",
   "pygments_lexer": "ipython3",
   "version": "3.11.2"
  }
 },
 "nbformat": 4,
 "nbformat_minor": 5
}
