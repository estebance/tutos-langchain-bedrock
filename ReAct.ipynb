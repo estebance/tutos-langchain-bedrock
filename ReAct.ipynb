{
 "cells": [
  {
   "cell_type": "markdown",
   "id": "5eb2f849-87ad-42c1-8302-10565c1a9919",
   "metadata": {},
   "source": [
    "# AGENTES \n",
    "La idea es utilizar un LLM para tomar una serie de acciones, en este caso el LLM se convierte en una herramienta capaz de razonar y decidir en que orden se llevan a cabo las acciones para llegar a un resultado. \n",
    "\n",
    "Desde mi punto de vista todo inicia con la publicación del artículo ReAct: Synergizing reasoning and acting in language models\n",
    "[ReAct](https://arxiv.org/abs/2210.03629). Con la utilización de ReAct podemos reducir la probabilidad de que el modelo alucine.\n",
    "\n",
    "ReAct combinando la posibilidad de razonar y actuar permite a los modelos razonar de forma dinamica para crear, mantener o ajustar planes de accion mientras se interactua con entornos externos como sitios web, documentos, bases de datos, apis entre otros.  \n",
    "\n",
    "## Aprendizaje en contexto (in-context learning)\n",
    "\n",
    "1. zero-shot learning: proveemos a nuestro LLM un prompt que puede incluir algo de información previa antes de proveer una pregunta o comando, con esto ayudamos al LLM a encontrar una buena respuesta.\n",
    "   \n",
    "2. few-shot learning: proveemos a nuestro LLM uno o varios ejemplos de prompts y respuestas deseadas. Cuando se pasa una nueva pregunta o comando el LLM va a responder teniendo en cuenta los ejemplos. "
   ]
  }
 ],
 "metadata": {
  "kernelspec": {
   "display_name": "virtualenv",
   "language": "python",
   "name": "virtualenv"
  },
  "language_info": {
   "codemirror_mode": {
    "name": "ipython",
    "version": 3
   },
   "file_extension": ".py",
   "mimetype": "text/x-python",
   "name": "python",
   "nbconvert_exporter": "python",
   "pygments_lexer": "ipython3",
   "version": "3.11.2"
  }
 },
 "nbformat": 4,
 "nbformat_minor": 5
}
